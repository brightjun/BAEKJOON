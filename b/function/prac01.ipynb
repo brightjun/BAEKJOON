{
 "cells": [
  {
   "cell_type": "code",
   "execution_count": 21,
   "metadata": {},
   "outputs": [
    {
     "name": "stdout",
     "output_type": "stream",
     "text": [
      "i : 112, temp1 : 0, temp2 : 0, hanNum : 100\n",
      "i : 124, temp1 : -1, temp2 : -1, hanNum : 101\n",
      "i : 136, temp1 : -2, temp2 : -2, hanNum : 102\n",
      "i : 148, temp1 : -3, temp2 : -3, hanNum : 103\n",
      "i : 160, temp1 : -4, temp2 : -4, hanNum : 104\n",
      "i : 211, temp1 : 1, temp2 : 1, hanNum : 105\n",
      "105\n"
     ]
    }
   ],
   "source": [
    "from glob import escape\n",
    "\n",
    "inputN = int(input(\"1~1000 사이의 자연수 N 입력\"))\n",
    "hanNum = 0\n",
    "#print(type(inputN))\n",
    "\n",
    "if inputN < 100 :\n",
    "    hanNum = inputN\n",
    "else :\n",
    "    hanNum = 99\n",
    "    \n",
    "    i = 100\n",
    "    while i <= inputN:\n",
    "        \n",
    "        flag1 = True\n",
    "        list1 = []\n",
    "        for j in str(i):\n",
    "            list1.append(int(j))#문자열 슬라이싱 후 숫자 변환.\n",
    "        \n",
    "        i+=1 # 이미 숫자가 들어갔기 때문에 +1 해도 됨.\n",
    "        \n",
    "        temp1 = list1[0]-list1[1]\n",
    "        \n",
    "        for k in range(len(list1)-1):\n",
    "            temp2 = list1[k] - list1[k+1]\n",
    "            if temp1 == temp2:\n",
    "                pass\n",
    "            else : \n",
    "                flag1 = False\n",
    "                break\n",
    "        if flag1:\n",
    "            hanNum +=1\n",
    "            print('i : {}, temp1 : {}, temp2 : {}, hanNum : {}'.format(i,temp1,temp2,hanNum))\n",
    "        else:\n",
    "            continue\n",
    "    \n",
    "print(hanNum)\n",
    "\n"
   ]
  },
  {
   "cell_type": "code",
   "execution_count": 22,
   "metadata": {},
   "outputs": [
    {
     "name": "stdout",
     "output_type": "stream",
     "text": [
      "105\n"
     ]
    }
   ],
   "source": [
    "inputN = int(input())\n",
    "hanNum = 0\n",
    "\n",
    "if inputN < 100 :\n",
    "    hanNum = inputN\n",
    "else :\n",
    "    hanNum = 99\n",
    "    i = 100\n",
    "    \n",
    "    while i <= inputN:\n",
    "        flag1 = True\n",
    "        list1 = []\n",
    "        for j in str(i):\n",
    "            list1.append(int(j))\n",
    "            \n",
    "        i+=1\n",
    "        temp1 = list1[0]-list1[1]\n",
    "        \n",
    "        for k in range(len(list1)-1):\n",
    "            temp2 = list1[k] - list1[k+1]\n",
    "            if temp1 == temp2:\n",
    "                pass\n",
    "            else : \n",
    "                flag1 = False\n",
    "                break\n",
    "        if flag1:\n",
    "            hanNum +=1\n",
    "        else:\n",
    "            continue\n",
    "    \n",
    "print(hanNum)\n",
    "\n"
   ]
  },
  {
   "cell_type": "code",
   "execution_count": 29,
   "metadata": {},
   "outputs": [
    {
     "name": "stdout",
     "output_type": "stream",
     "text": [
      "3\n"
     ]
    }
   ],
   "source": [
    "a, b = map(int,input().split(' '))\n",
    "print(a+b)\n"
   ]
  },
  {
   "cell_type": "code",
   "execution_count": 33,
   "metadata": {},
   "outputs": [
    {
     "ename": "TypeError",
     "evalue": "list indices must be integers or slices, not str",
     "output_type": "error",
     "traceback": [
      "\u001b[0;31m---------------------------------------------------------------------------\u001b[0m",
      "\u001b[0;31mTypeError\u001b[0m                                 Traceback (most recent call last)",
      "\u001b[1;32m/Volumes/Seagate/junOS/vscode/b/function/prac01.ipynb 셀 4\u001b[0m in \u001b[0;36m<cell line: 2>\u001b[0;34m()\u001b[0m\n\u001b[1;32m      <a href='vscode-notebook-cell:/Volumes/Seagate/junOS/vscode/b/function/prac01.ipynb#W3sZmlsZQ%3D%3D?line=0'>1</a>\u001b[0m input1 \u001b[39m=\u001b[39m \u001b[39minput\u001b[39m()\u001b[39m.\u001b[39msplit(\u001b[39m'\u001b[39m\u001b[39m\\n\u001b[39;00m\u001b[39m'\u001b[39m)\n\u001b[1;32m      <a href='vscode-notebook-cell:/Volumes/Seagate/junOS/vscode/b/function/prac01.ipynb#W3sZmlsZQ%3D%3D?line=1'>2</a>\u001b[0m \u001b[39mfor\u001b[39;00m i \u001b[39min\u001b[39;00m input1:\n\u001b[0;32m----> <a href='vscode-notebook-cell:/Volumes/Seagate/junOS/vscode/b/function/prac01.ipynb#W3sZmlsZQ%3D%3D?line=2'>3</a>\u001b[0m     num1, num2 \u001b[39m=\u001b[39m \u001b[39mmap\u001b[39m(\u001b[39mint\u001b[39m, input1[i]\u001b[39m.\u001b[39msplit(\u001b[39m'\u001b[39m\u001b[39m \u001b[39m\u001b[39m'\u001b[39m))\n\u001b[1;32m      <a href='vscode-notebook-cell:/Volumes/Seagate/junOS/vscode/b/function/prac01.ipynb#W3sZmlsZQ%3D%3D?line=3'>4</a>\u001b[0m     \u001b[39mprint\u001b[39m(num1\u001b[39m+\u001b[39mnum2)\n",
      "\u001b[0;31mTypeError\u001b[0m: list indices must be integers or slices, not str"
     ]
    }
   ],
   "source": [
    "input1 = input().split('\\n')\n",
    "for i in input1:\n",
    "    num1, num2 = map(int, input1[i].split(' '))\n",
    "    print(num1+num2)"
   ]
  },
  {
   "cell_type": "code",
   "execution_count": 39,
   "metadata": {},
   "outputs": [
    {
     "name": "stdout",
     "output_type": "stream",
     "text": [
      "['1 3 2 3 5 3 2 4', '1 3 2 3 5 3 2 4', '1 3 2 3 5 3 2 4', '1 3 2 3 5 3 2 4']\n"
     ]
    }
   ],
   "source": [
    "x=\"\"\n",
    "for i in iter(input,x):\n",
    "    input1.append(i)\n",
    "\n",
    "print(input1)"
   ]
  },
  {
   "cell_type": "code",
   "execution_count": null,
   "metadata": {},
   "outputs": [],
   "source": []
  }
 ],
 "metadata": {
  "kernelspec": {
   "display_name": "Python 3.10.5 64-bit",
   "language": "python",
   "name": "python3"
  },
  "language_info": {
   "codemirror_mode": {
    "name": "ipython",
    "version": 3
   },
   "file_extension": ".py",
   "mimetype": "text/x-python",
   "name": "python",
   "nbconvert_exporter": "python",
   "pygments_lexer": "ipython3",
   "version": "3.10.5"
  },
  "orig_nbformat": 4,
  "vscode": {
   "interpreter": {
    "hash": "aee8b7b246df8f9039afb4144a1f6fd8d2ca17a180786b69acc140d282b71a49"
   }
  }
 },
 "nbformat": 4,
 "nbformat_minor": 2
}

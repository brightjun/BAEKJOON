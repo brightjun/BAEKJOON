{
 "cells": [
  {
   "cell_type": "markdown",
   "metadata": {},
   "source": [
    "문제\n",
    "\n",
    "알파벳 대소문자로 된 단어가 주어지면, 이 단어에서 가장 많이 사용된 알파벳이 무엇인지 알아내는 프로그램을 작성하시오. 단, 대문자와 소문자를 구분하지 않는다.\n",
    "\n",
    "입력\n",
    "\n",
    "첫째 줄에 알파벳 대소문자로 이루어진 단어가 주어진다. 주어지는 단어의 길이는 1,000,000을 넘지 않는다.\n",
    "\n",
    "출력\n",
    "\n",
    "첫째 줄에 이 단어에서 가장 많이 사용된 알파벳을 대문자로 출력한다. 단, 가장 많이 사용된 알파벳이 여러 개 존재하는 경우에는 ?를 출력한다."
   ]
  },
  {
   "cell_type": "code",
   "execution_count": 21,
   "metadata": {},
   "outputs": [
    {
     "name": "stdout",
     "output_type": "stream",
     "text": [
      "A\n"
     ]
    }
   ],
   "source": [
    "input1 = input()\n",
    "list1 = list(i.upper() for i in input1)\n",
    "list2 = set(list1)\n",
    "\n",
    "temp1 = -1\n",
    "temp2 = -1\n",
    "char = \"\"\n",
    "\n",
    "for i in list2:\n",
    "    if temp1 < list1.count(i): #숫자 비교\n",
    "        temp1 = list1.count(i) #제일 큰 놈\n",
    "        char = i\n",
    "    elif temp1 == list1.count(i):\n",
    "        temp2 = list1.count(i)\n",
    "\n",
    "if temp1 == temp2:\n",
    "    print('?')\n",
    "else:\n",
    "    print(char)\n",
    "\n"
   ]
  },
  {
   "cell_type": "code",
   "execution_count": 9,
   "metadata": {},
   "outputs": [
    {
     "name": "stdout",
     "output_type": "stream",
     "text": [
      "['A', 'V', 'C', 'D', 'C']\n",
      "{'D', 'V', 'C', 'A'}\n"
     ]
    }
   ],
   "source": [
    "list2 = ['A','V','c','d','C']\n",
    "list3 =[]\n",
    "for i in list2:\n",
    "    list3.append(i.upper())\n",
    "print(list3)\n",
    "print(set(list3))\n"
   ]
  },
  {
   "cell_type": "code",
   "execution_count": 15,
   "metadata": {},
   "outputs": [
    {
     "name": "stdout",
     "output_type": "stream",
     "text": [
      "[1, 5, 0]\n"
     ]
    }
   ],
   "source": [
    "list2 = ['A','V','c','d','C']\n",
    "list3 = [1,5,0]\n",
    "print(list3)"
   ]
  },
  {
   "cell_type": "code",
   "execution_count": 17,
   "metadata": {},
   "outputs": [
    {
     "name": "stdout",
     "output_type": "stream",
     "text": [
      "['D', 'O', 'S', 'O', 'M', 'E', 'T', 'H', 'I', 'N', 'G']\n"
     ]
    }
   ],
   "source": [
    "input1 = input()\n",
    "list1 = list(i.upper() for i in input1)\n",
    "print(list1)"
   ]
  },
  {
   "cell_type": "code",
   "execution_count": null,
   "metadata": {},
   "outputs": [],
   "source": []
  }
 ],
 "metadata": {
  "kernelspec": {
   "display_name": "Python 3.10.5 64-bit",
   "language": "python",
   "name": "python3"
  },
  "language_info": {
   "codemirror_mode": {
    "name": "ipython",
    "version": 3
   },
   "file_extension": ".py",
   "mimetype": "text/x-python",
   "name": "python",
   "nbconvert_exporter": "python",
   "pygments_lexer": "ipython3",
   "version": "3.10.5"
  },
  "orig_nbformat": 4,
  "vscode": {
   "interpreter": {
    "hash": "aee8b7b246df8f9039afb4144a1f6fd8d2ca17a180786b69acc140d282b71a49"
   }
  }
 },
 "nbformat": 4,
 "nbformat_minor": 2
}
